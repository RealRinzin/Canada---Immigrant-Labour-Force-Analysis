{
 "cells": [
  {
   "cell_type": "code",
   "execution_count": null,
   "metadata": {},
   "outputs": [
    {
     "name": "stdout",
     "output_type": "stream",
     "text": [
      "Requirement already satisfied: pandas in /opt/anaconda3/lib/python3.12/site-packages (2.2.2)\n",
      "Requirement already satisfied: numpy in /opt/anaconda3/lib/python3.12/site-packages (1.26.4)\n",
      "Requirement already satisfied: python-dateutil>=2.8.2 in /opt/anaconda3/lib/python3.12/site-packages (from pandas) (2.9.0.post0)\n",
      "Requirement already satisfied: pytz>=2020.1 in /opt/anaconda3/lib/python3.12/site-packages (from pandas) (2024.1)\n",
      "Requirement already satisfied: tzdata>=2022.7 in /opt/anaconda3/lib/python3.12/site-packages (from pandas) (2023.3)\n",
      "Requirement already satisfied: six>=1.5 in /opt/anaconda3/lib/python3.12/site-packages (from python-dateutil>=2.8.2->pandas) (1.16.0)\n"
     ]
    }
   ],
   "source": [
    "# Install the Pandas Pacakges\n",
    "\n",
    "# !pip install pandas numpy"
   ]
  },
  {
   "cell_type": "markdown",
   "metadata": {},
   "source": [
    "Data Sources:\n",
    "https://www150.statcan.gc.ca/t1/tbl1/en/tv.action?pid=1410008201"
   ]
  },
  {
   "cell_type": "code",
   "execution_count": 279,
   "metadata": {},
   "outputs": [],
   "source": [
    "# Import the libraries\n",
    "import pandas as pd"
   ]
  },
  {
   "cell_type": "code",
   "execution_count": 280,
   "metadata": {},
   "outputs": [],
   "source": [
    "# Read the CSV Files for the Analysis\n",
    "# df = pd.read_csv('./14100082.csv')\n",
    "# df = pd.read_csv('https://drive.google.com/uc?export=download&id=17Wfx-gXMdiIuC2qb_AEVkx3ohNE-5dRx')\n",
    "\n",
    "df = pd.read_csv('./Canada-Labour-force-dataset.csv')"
   ]
  },
  {
   "cell_type": "code",
   "execution_count": null,
   "metadata": {},
   "outputs": [],
   "source": []
  },
  {
   "cell_type": "code",
   "execution_count": 281,
   "metadata": {},
   "outputs": [
    {
     "data": {
      "text/html": [
       "<div>\n",
       "<style scoped>\n",
       "    .dataframe tbody tr th:only-of-type {\n",
       "        vertical-align: middle;\n",
       "    }\n",
       "\n",
       "    .dataframe tbody tr th {\n",
       "        vertical-align: top;\n",
       "    }\n",
       "\n",
       "    .dataframe thead th {\n",
       "        text-align: right;\n",
       "    }\n",
       "</style>\n",
       "<table border=\"1\" class=\"dataframe\">\n",
       "  <thead>\n",
       "    <tr style=\"text-align: right;\">\n",
       "      <th></th>\n",
       "      <th>REF_DATE</th>\n",
       "      <th>GEO</th>\n",
       "      <th>DGUID</th>\n",
       "      <th>Immigrant status</th>\n",
       "      <th>Labour force characteristics</th>\n",
       "      <th>Sex</th>\n",
       "      <th>Age group</th>\n",
       "      <th>UOM</th>\n",
       "      <th>UOM_ID</th>\n",
       "      <th>SCALAR_FACTOR</th>\n",
       "      <th>SCALAR_ID</th>\n",
       "      <th>VECTOR</th>\n",
       "      <th>COORDINATE</th>\n",
       "      <th>VALUE</th>\n",
       "      <th>STATUS</th>\n",
       "      <th>SYMBOL</th>\n",
       "      <th>TERMINATED</th>\n",
       "      <th>DECIMALS</th>\n",
       "    </tr>\n",
       "  </thead>\n",
       "  <tbody>\n",
       "    <tr>\n",
       "      <th>161278</th>\n",
       "      <td>2024-10</td>\n",
       "      <td>Canada</td>\n",
       "      <td>2016A000011124</td>\n",
       "      <td>Born in Canada</td>\n",
       "      <td>Employment rate</td>\n",
       "      <td>Females</td>\n",
       "      <td>25 to 54 years</td>\n",
       "      <td>Percentage</td>\n",
       "      <td>242</td>\n",
       "      <td>units</td>\n",
       "      <td>0</td>\n",
       "      <td>v53040054</td>\n",
       "      <td>1.6.10.3.3</td>\n",
       "      <td>83.7</td>\n",
       "      <td>NaN</td>\n",
       "      <td>NaN</td>\n",
       "      <td>NaN</td>\n",
       "      <td>1</td>\n",
       "    </tr>\n",
       "    <tr>\n",
       "      <th>161279</th>\n",
       "      <td>2024-10</td>\n",
       "      <td>Canada</td>\n",
       "      <td>2016A000011124</td>\n",
       "      <td>Born in Canada</td>\n",
       "      <td>Employment rate</td>\n",
       "      <td>Females</td>\n",
       "      <td>55 years and over</td>\n",
       "      <td>Percentage</td>\n",
       "      <td>242</td>\n",
       "      <td>units</td>\n",
       "      <td>0</td>\n",
       "      <td>v53040055</td>\n",
       "      <td>1.6.10.3.4</td>\n",
       "      <td>28.9</td>\n",
       "      <td>NaN</td>\n",
       "      <td>NaN</td>\n",
       "      <td>NaN</td>\n",
       "      <td>1</td>\n",
       "    </tr>\n",
       "  </tbody>\n",
       "</table>\n",
       "</div>"
      ],
      "text/plain": [
       "       REF_DATE     GEO           DGUID Immigrant status  \\\n",
       "161278  2024-10  Canada  2016A000011124   Born in Canada   \n",
       "161279  2024-10  Canada  2016A000011124   Born in Canada   \n",
       "\n",
       "       Labour force characteristics      Sex          Age group         UOM  \\\n",
       "161278              Employment rate  Females     25 to 54 years  Percentage   \n",
       "161279              Employment rate  Females  55 years and over  Percentage   \n",
       "\n",
       "        UOM_ID SCALAR_FACTOR  SCALAR_ID     VECTOR  COORDINATE  VALUE STATUS  \\\n",
       "161278     242         units          0  v53040054  1.6.10.3.3   83.7    NaN   \n",
       "161279     242         units          0  v53040055  1.6.10.3.4   28.9    NaN   \n",
       "\n",
       "        SYMBOL  TERMINATED  DECIMALS  \n",
       "161278     NaN         NaN         1  \n",
       "161279     NaN         NaN         1  "
      ]
     },
     "execution_count": 281,
     "metadata": {},
     "output_type": "execute_result"
    }
   ],
   "source": [
    "df.tail(2)"
   ]
  },
  {
   "cell_type": "code",
   "execution_count": 282,
   "metadata": {},
   "outputs": [
    {
     "data": {
      "text/plain": [
       "Index(['REF_DATE', 'GEO', 'DGUID', 'Immigrant status',\n",
       "       'Labour force characteristics', 'Sex', 'Age group', 'UOM', 'UOM_ID',\n",
       "       'SCALAR_FACTOR', 'SCALAR_ID', 'VECTOR', 'COORDINATE', 'VALUE', 'STATUS',\n",
       "       'SYMBOL', 'TERMINATED', 'DECIMALS'],\n",
       "      dtype='object')"
      ]
     },
     "execution_count": 282,
     "metadata": {},
     "output_type": "execute_result"
    }
   ],
   "source": [
    "df.columns"
   ]
  },
  {
   "cell_type": "code",
   "execution_count": 283,
   "metadata": {},
   "outputs": [],
   "source": [
    "df.drop(columns=['DGUID','UOM_ID','SCALAR_FACTOR','SCALAR_ID','VECTOR','COORDINATE','STATUS','SYMBOL','TERMINATED','DECIMALS'],axis=1,inplace=True)"
   ]
  },
  {
   "cell_type": "code",
   "execution_count": 284,
   "metadata": {},
   "outputs": [],
   "source": [
    "# Rename the columns\n",
    "df.rename(columns={'REF_DATE':'year','GEO':'province','Immigrant status':'immigrant_status','Labour force characteristics':'labour_force_character','Sex':'gender','Age group':'age_group','UOM':'metrics','VALUE':'total'},inplace=True)"
   ]
  },
  {
   "cell_type": "code",
   "execution_count": 289,
   "metadata": {},
   "outputs": [
    {
     "data": {
      "text/plain": [
       "Index(['year', 'province', 'immigrant_status', 'labour_force_character',\n",
       "       'gender', 'age_group', 'metrics', 'total'],\n",
       "      dtype='object')"
      ]
     },
     "execution_count": 289,
     "metadata": {},
     "output_type": "execute_result"
    }
   ],
   "source": [
    "df.columns"
   ]
  },
  {
   "cell_type": "code",
   "execution_count": 290,
   "metadata": {},
   "outputs": [],
   "source": [
    "df['year']=df['year'].str.split(pat='-').str[0]"
   ]
  },
  {
   "cell_type": "code",
   "execution_count": 314,
   "metadata": {},
   "outputs": [
    {
     "data": {
      "text/plain": [
       "(161280, 8)"
      ]
     },
     "execution_count": 314,
     "metadata": {},
     "output_type": "execute_result"
    }
   ],
   "source": [
    "df.shape"
   ]
  },
  {
   "cell_type": "code",
   "execution_count": 328,
   "metadata": {},
   "outputs": [
    {
     "data": {
      "text/plain": [
       "age_group\n",
       "15 years and over    40320\n",
       "15 to 24 years       40320\n",
       "25 to 54 years       40320\n",
       "55 years and over    40320\n",
       "Name: count, dtype: int64"
      ]
     },
     "execution_count": 328,
     "metadata": {},
     "output_type": "execute_result"
    }
   ],
   "source": [
    "df['age_group'].value_counts()"
   ]
  },
  {
   "cell_type": "code",
   "execution_count": 292,
   "metadata": {},
   "outputs": [],
   "source": [
    "#  Split the Year column\n",
    "# Extracting only year from the date column\n",
    "# df['year']=df['year'].str.split(pat='-').str[0]"
   ]
  },
  {
   "cell_type": "code",
   "execution_count": 335,
   "metadata": {},
   "outputs": [],
   "source": [
    "# Convert the year to integer\n",
    "df['year'] = pd.to_numeric(df['year'])\n",
    "df['total'] = round(df['total'],0)\n"
   ]
  },
  {
   "cell_type": "code",
   "execution_count": 336,
   "metadata": {},
   "outputs": [
    {
     "data": {
      "text/plain": [
       "year                        int64\n",
       "province                   object\n",
       "immigrant_status           object\n",
       "labour_force_character     object\n",
       "gender                     object\n",
       "age_group                  object\n",
       "metrics                    object\n",
       "total                     float64\n",
       "dtype: object"
      ]
     },
     "execution_count": 336,
     "metadata": {},
     "output_type": "execute_result"
    }
   ],
   "source": [
    "df.dtypes"
   ]
  },
  {
   "cell_type": "code",
   "execution_count": 337,
   "metadata": {},
   "outputs": [],
   "source": [
    "df_clean_data= df[\n",
    "    (df['year'] >=2018)&\n",
    "    (df['metrics'] == 'Persons')&\n",
    "    (df['immigrant_status'] =='Immigrants, landed 5 or less years earlier')&\n",
    "    (df['gender'] != 'Both sexes')\n",
    "    ]"
   ]
  },
  {
   "cell_type": "code",
   "execution_count": 338,
   "metadata": {},
   "outputs": [
    {
     "data": {
      "text/plain": [
       "array(['Population', 'Labour force', 'Employment', 'Full-time employment',\n",
       "       'Part-time employment', 'Unemployment', 'Not in labour force'],\n",
       "      dtype=object)"
      ]
     },
     "execution_count": 338,
     "metadata": {},
     "output_type": "execute_result"
    }
   ],
   "source": [
    "df_clean_data['labour_force_character'].unique()"
   ]
  },
  {
   "cell_type": "code",
   "execution_count": 333,
   "metadata": {},
   "outputs": [
    {
     "data": {
      "text/plain": [
       "labour_force_character\n",
       "Employment              123568.0\n",
       "Full-time employment    103920.1\n",
       "Labour force            137180.4\n",
       "Not in labour force      45797.5\n",
       "Part-time employment     19615.1\n",
       "Population              182976.1\n",
       "Unemployment             13570.9\n",
       "Name: total, dtype: float64"
      ]
     },
     "execution_count": 333,
     "metadata": {},
     "output_type": "execute_result"
    }
   ],
   "source": [
    "# df_clean_data['labour_force_character'].value_counts()\n",
    "df_clean_data.groupby('labour_force_character')['total'].sum()"
   ]
  },
  {
   "cell_type": "code",
   "execution_count": 339,
   "metadata": {},
   "outputs": [
    {
     "data": {
      "text/html": [
       "<div>\n",
       "<style scoped>\n",
       "    .dataframe tbody tr th:only-of-type {\n",
       "        vertical-align: middle;\n",
       "    }\n",
       "\n",
       "    .dataframe tbody tr th {\n",
       "        vertical-align: top;\n",
       "    }\n",
       "\n",
       "    .dataframe thead th {\n",
       "        text-align: right;\n",
       "    }\n",
       "</style>\n",
       "<table border=\"1\" class=\"dataframe\">\n",
       "  <thead>\n",
       "    <tr style=\"text-align: right;\">\n",
       "      <th></th>\n",
       "      <th>year</th>\n",
       "      <th>province</th>\n",
       "      <th>immigrant_status</th>\n",
       "      <th>labour_force_character</th>\n",
       "      <th>gender</th>\n",
       "      <th>age_group</th>\n",
       "      <th>metrics</th>\n",
       "      <th>total</th>\n",
       "    </tr>\n",
       "  </thead>\n",
       "  <tbody>\n",
       "    <tr>\n",
       "      <th>102484</th>\n",
       "      <td>2018</td>\n",
       "      <td>Canada</td>\n",
       "      <td>Immigrants, landed 5 or less years earlier</td>\n",
       "      <td>Population</td>\n",
       "      <td>Males</td>\n",
       "      <td>15 years and over</td>\n",
       "      <td>Persons</td>\n",
       "      <td>474.0</td>\n",
       "    </tr>\n",
       "    <tr>\n",
       "      <th>102485</th>\n",
       "      <td>2018</td>\n",
       "      <td>Canada</td>\n",
       "      <td>Immigrants, landed 5 or less years earlier</td>\n",
       "      <td>Population</td>\n",
       "      <td>Males</td>\n",
       "      <td>15 to 24 years</td>\n",
       "      <td>Persons</td>\n",
       "      <td>75.0</td>\n",
       "    </tr>\n",
       "    <tr>\n",
       "      <th>102486</th>\n",
       "      <td>2018</td>\n",
       "      <td>Canada</td>\n",
       "      <td>Immigrants, landed 5 or less years earlier</td>\n",
       "      <td>Population</td>\n",
       "      <td>Males</td>\n",
       "      <td>25 to 54 years</td>\n",
       "      <td>Persons</td>\n",
       "      <td>354.0</td>\n",
       "    </tr>\n",
       "    <tr>\n",
       "      <th>102487</th>\n",
       "      <td>2018</td>\n",
       "      <td>Canada</td>\n",
       "      <td>Immigrants, landed 5 or less years earlier</td>\n",
       "      <td>Population</td>\n",
       "      <td>Males</td>\n",
       "      <td>55 years and over</td>\n",
       "      <td>Persons</td>\n",
       "      <td>45.0</td>\n",
       "    </tr>\n",
       "    <tr>\n",
       "      <th>102488</th>\n",
       "      <td>2018</td>\n",
       "      <td>Canada</td>\n",
       "      <td>Immigrants, landed 5 or less years earlier</td>\n",
       "      <td>Population</td>\n",
       "      <td>Females</td>\n",
       "      <td>15 years and over</td>\n",
       "      <td>Persons</td>\n",
       "      <td>532.0</td>\n",
       "    </tr>\n",
       "    <tr>\n",
       "      <th>...</th>\n",
       "      <td>...</td>\n",
       "      <td>...</td>\n",
       "      <td>...</td>\n",
       "      <td>...</td>\n",
       "      <td>...</td>\n",
       "      <td>...</td>\n",
       "      <td>...</td>\n",
       "      <td>...</td>\n",
       "    </tr>\n",
       "    <tr>\n",
       "      <th>160879</th>\n",
       "      <td>2024</td>\n",
       "      <td>Canada</td>\n",
       "      <td>Immigrants, landed 5 or less years earlier</td>\n",
       "      <td>Not in labour force</td>\n",
       "      <td>Males</td>\n",
       "      <td>55 years and over</td>\n",
       "      <td>Persons</td>\n",
       "      <td>28.0</td>\n",
       "    </tr>\n",
       "    <tr>\n",
       "      <th>160880</th>\n",
       "      <td>2024</td>\n",
       "      <td>Canada</td>\n",
       "      <td>Immigrants, landed 5 or less years earlier</td>\n",
       "      <td>Not in labour force</td>\n",
       "      <td>Females</td>\n",
       "      <td>15 years and over</td>\n",
       "      <td>Persons</td>\n",
       "      <td>227.0</td>\n",
       "    </tr>\n",
       "    <tr>\n",
       "      <th>160881</th>\n",
       "      <td>2024</td>\n",
       "      <td>Canada</td>\n",
       "      <td>Immigrants, landed 5 or less years earlier</td>\n",
       "      <td>Not in labour force</td>\n",
       "      <td>Females</td>\n",
       "      <td>15 to 24 years</td>\n",
       "      <td>Persons</td>\n",
       "      <td>47.0</td>\n",
       "    </tr>\n",
       "    <tr>\n",
       "      <th>160882</th>\n",
       "      <td>2024</td>\n",
       "      <td>Canada</td>\n",
       "      <td>Immigrants, landed 5 or less years earlier</td>\n",
       "      <td>Not in labour force</td>\n",
       "      <td>Females</td>\n",
       "      <td>25 to 54 years</td>\n",
       "      <td>Persons</td>\n",
       "      <td>125.0</td>\n",
       "    </tr>\n",
       "    <tr>\n",
       "      <th>160883</th>\n",
       "      <td>2024</td>\n",
       "      <td>Canada</td>\n",
       "      <td>Immigrants, landed 5 or less years earlier</td>\n",
       "      <td>Not in labour force</td>\n",
       "      <td>Females</td>\n",
       "      <td>55 years and over</td>\n",
       "      <td>Persons</td>\n",
       "      <td>55.0</td>\n",
       "    </tr>\n",
       "  </tbody>\n",
       "</table>\n",
       "<p>4592 rows × 8 columns</p>\n",
       "</div>"
      ],
      "text/plain": [
       "        year province                            immigrant_status  \\\n",
       "102484  2018   Canada  Immigrants, landed 5 or less years earlier   \n",
       "102485  2018   Canada  Immigrants, landed 5 or less years earlier   \n",
       "102486  2018   Canada  Immigrants, landed 5 or less years earlier   \n",
       "102487  2018   Canada  Immigrants, landed 5 or less years earlier   \n",
       "102488  2018   Canada  Immigrants, landed 5 or less years earlier   \n",
       "...      ...      ...                                         ...   \n",
       "160879  2024   Canada  Immigrants, landed 5 or less years earlier   \n",
       "160880  2024   Canada  Immigrants, landed 5 or less years earlier   \n",
       "160881  2024   Canada  Immigrants, landed 5 or less years earlier   \n",
       "160882  2024   Canada  Immigrants, landed 5 or less years earlier   \n",
       "160883  2024   Canada  Immigrants, landed 5 or less years earlier   \n",
       "\n",
       "       labour_force_character   gender          age_group  metrics  total  \n",
       "102484             Population    Males  15 years and over  Persons  474.0  \n",
       "102485             Population    Males     15 to 24 years  Persons   75.0  \n",
       "102486             Population    Males     25 to 54 years  Persons  354.0  \n",
       "102487             Population    Males  55 years and over  Persons   45.0  \n",
       "102488             Population  Females  15 years and over  Persons  532.0  \n",
       "...                       ...      ...                ...      ...    ...  \n",
       "160879    Not in labour force    Males  55 years and over  Persons   28.0  \n",
       "160880    Not in labour force  Females  15 years and over  Persons  227.0  \n",
       "160881    Not in labour force  Females     15 to 24 years  Persons   47.0  \n",
       "160882    Not in labour force  Females     25 to 54 years  Persons  125.0  \n",
       "160883    Not in labour force  Females  55 years and over  Persons   55.0  \n",
       "\n",
       "[4592 rows x 8 columns]"
      ]
     },
     "execution_count": 339,
     "metadata": {},
     "output_type": "execute_result"
    }
   ],
   "source": [
    "df_clean_data"
   ]
  },
  {
   "cell_type": "code",
   "execution_count": null,
   "metadata": {},
   "outputs": [],
   "source": []
  },
  {
   "cell_type": "code",
   "execution_count": 340,
   "metadata": {},
   "outputs": [],
   "source": [
    "df_clean_data.to_csv('clean_immigrant_data.csv')"
   ]
  },
  {
   "cell_type": "code",
   "execution_count": null,
   "metadata": {},
   "outputs": [],
   "source": []
  }
 ],
 "metadata": {
  "kernelspec": {
   "display_name": "base",
   "language": "python",
   "name": "python3"
  },
  "language_info": {
   "codemirror_mode": {
    "name": "ipython",
    "version": 3
   },
   "file_extension": ".py",
   "mimetype": "text/x-python",
   "name": "python",
   "nbconvert_exporter": "python",
   "pygments_lexer": "ipython3",
   "version": "3.12.4"
  }
 },
 "nbformat": 4,
 "nbformat_minor": 2
}
